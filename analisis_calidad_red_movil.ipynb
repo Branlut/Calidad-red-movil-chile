{
 "cells": [
  {
   "cell_type": "code",
   "execution_count": 2,
   "metadata": {},
   "outputs": [],
   "source": [
    "import pandas as pd"
   ]
  },
  {
   "cell_type": "code",
   "execution_count": 4,
   "metadata": {},
   "outputs": [],
   "source": [
    "df = pd.read_excel('Calidad_red_movil_201811_WEB.xlsx',sheet_name='Datos')"
   ]
  },
  {
   "cell_type": "code",
   "execution_count": 6,
   "metadata": {},
   "outputs": [
    {
     "data": {
      "text/html": [
       "<div>\n",
       "<style scoped>\n",
       "    .dataframe tbody tr th:only-of-type {\n",
       "        vertical-align: middle;\n",
       "    }\n",
       "\n",
       "    .dataframe tbody tr th {\n",
       "        vertical-align: top;\n",
       "    }\n",
       "\n",
       "    .dataframe thead th {\n",
       "        text-align: right;\n",
       "    }\n",
       "</style>\n",
       "<table border=\"1\" class=\"dataframe\">\n",
       "  <thead>\n",
       "    <tr style=\"text-align: right;\">\n",
       "      <th></th>\n",
       "      <th>COD_EMPRESA</th>\n",
       "      <th>PERIODO</th>\n",
       "      <th>ESTACIONBASE</th>\n",
       "      <th>RANGOHORARIO</th>\n",
       "      <th>COMUNA</th>\n",
       "      <th>REGION</th>\n",
       "      <th>DESCRIPCIONCOMUNA</th>\n",
       "      <th>TIPOEMPLAZAMIENTO</th>\n",
       "      <th>LLAMADASEXITO</th>\n",
       "      <th>INTENTOLLAMADA</th>\n",
       "      <th>LLAMADAINTERRUP</th>\n",
       "      <th>TIEMPOINTERRUP</th>\n",
       "      <th>PEE</th>\n",
       "      <th>PFE</th>\n",
       "    </tr>\n",
       "  </thead>\n",
       "  <tbody>\n",
       "    <tr>\n",
       "      <th>0</th>\n",
       "      <td>Movistar</td>\n",
       "      <td>201811</td>\n",
       "      <td>HRAG1U01</td>\n",
       "      <td>1213</td>\n",
       "      <td>1404</td>\n",
       "      <td>1</td>\n",
       "      <td>Huara</td>\n",
       "      <td>R</td>\n",
       "      <td>2346</td>\n",
       "      <td>2349</td>\n",
       "      <td>83</td>\n",
       "      <td>0</td>\n",
       "      <td>0.998723</td>\n",
       "      <td>0.964621</td>\n",
       "    </tr>\n",
       "    <tr>\n",
       "      <th>1</th>\n",
       "      <td>Movistar</td>\n",
       "      <td>201811</td>\n",
       "      <td>DARCNA</td>\n",
       "      <td>1213</td>\n",
       "      <td>1101</td>\n",
       "      <td>1</td>\n",
       "      <td>Iquique</td>\n",
       "      <td>R</td>\n",
       "      <td>174</td>\n",
       "      <td>174</td>\n",
       "      <td>11</td>\n",
       "      <td>0</td>\n",
       "      <td>1.000000</td>\n",
       "      <td>0.936782</td>\n",
       "    </tr>\n",
       "    <tr>\n",
       "      <th>2</th>\n",
       "      <td>Movistar</td>\n",
       "      <td>201811</td>\n",
       "      <td>MINIMU01</td>\n",
       "      <td>1213</td>\n",
       "      <td>1404</td>\n",
       "      <td>1</td>\n",
       "      <td>Huara</td>\n",
       "      <td>R</td>\n",
       "      <td>30</td>\n",
       "      <td>30</td>\n",
       "      <td>1</td>\n",
       "      <td>0</td>\n",
       "      <td>1.000000</td>\n",
       "      <td>0.966667</td>\n",
       "    </tr>\n",
       "    <tr>\n",
       "      <th>3</th>\n",
       "      <td>Movistar</td>\n",
       "      <td>201811</td>\n",
       "      <td>PASUF6</td>\n",
       "      <td>1213</td>\n",
       "      <td>1401</td>\n",
       "      <td>1</td>\n",
       "      <td>Pozo Almonte</td>\n",
       "      <td>R</td>\n",
       "      <td>3168</td>\n",
       "      <td>3168</td>\n",
       "      <td>31</td>\n",
       "      <td>0</td>\n",
       "      <td>1.000000</td>\n",
       "      <td>0.990215</td>\n",
       "    </tr>\n",
       "    <tr>\n",
       "      <th>4</th>\n",
       "      <td>Movistar</td>\n",
       "      <td>201811</td>\n",
       "      <td>CMIQU</td>\n",
       "      <td>1213</td>\n",
       "      <td>1101</td>\n",
       "      <td>1</td>\n",
       "      <td>Iquique</td>\n",
       "      <td>U</td>\n",
       "      <td>2703</td>\n",
       "      <td>2703</td>\n",
       "      <td>87</td>\n",
       "      <td>0</td>\n",
       "      <td>1.000000</td>\n",
       "      <td>0.967814</td>\n",
       "    </tr>\n",
       "  </tbody>\n",
       "</table>\n",
       "</div>"
      ],
      "text/plain": [
       "  COD_EMPRESA  PERIODO ESTACIONBASE  RANGOHORARIO  COMUNA  REGION  \\\n",
       "0    Movistar   201811     HRAG1U01          1213    1404       1   \n",
       "1    Movistar   201811       DARCNA          1213    1101       1   \n",
       "2    Movistar   201811     MINIMU01          1213    1404       1   \n",
       "3    Movistar   201811       PASUF6          1213    1401       1   \n",
       "4    Movistar   201811        CMIQU          1213    1101       1   \n",
       "\n",
       "  DESCRIPCIONCOMUNA TIPOEMPLAZAMIENTO  LLAMADASEXITO  INTENTOLLAMADA  \\\n",
       "0             Huara                 R           2346            2349   \n",
       "1           Iquique                 R            174             174   \n",
       "2             Huara                 R             30              30   \n",
       "3      Pozo Almonte                 R           3168            3168   \n",
       "4           Iquique                 U           2703            2703   \n",
       "\n",
       "   LLAMADAINTERRUP  TIEMPOINTERRUP       PEE       PFE  \n",
       "0               83               0  0.998723  0.964621  \n",
       "1               11               0  1.000000  0.936782  \n",
       "2                1               0  1.000000  0.966667  \n",
       "3               31               0  1.000000  0.990215  \n",
       "4               87               0  1.000000  0.967814  "
      ]
     },
     "execution_count": 6,
     "metadata": {},
     "output_type": "execute_result"
    }
   ],
   "source": [
    "df.head()"
   ]
  },
  {
   "cell_type": "code",
   "execution_count": 12,
   "metadata": {},
   "outputs": [
    {
     "name": "stdout",
     "output_type": "stream",
     "text": [
      "<class 'pandas.core.frame.DataFrame'>\n",
      "RangeIndex: 19967 entries, 0 to 19966\n",
      "Data columns (total 14 columns):\n",
      " #   Column             Non-Null Count  Dtype  \n",
      "---  ------             --------------  -----  \n",
      " 0   COD_EMPRESA        19967 non-null  object \n",
      " 1   PERIODO            19967 non-null  int64  \n",
      " 2   ESTACIONBASE       19967 non-null  object \n",
      " 3   RANGOHORARIO       19967 non-null  int64  \n",
      " 4   COMUNA             19967 non-null  int64  \n",
      " 5   REGION             19967 non-null  int64  \n",
      " 6   DESCRIPCIONCOMUNA  19967 non-null  object \n",
      " 7   TIPOEMPLAZAMIENTO  19967 non-null  object \n",
      " 8   LLAMADASEXITO      19967 non-null  int64  \n",
      " 9   INTENTOLLAMADA     19967 non-null  int64  \n",
      " 10  LLAMADAINTERRUP    19967 non-null  int64  \n",
      " 11  TIEMPOINTERRUP     19967 non-null  int64  \n",
      " 12  PEE                19967 non-null  float64\n",
      " 13  PFE                19967 non-null  float64\n",
      "dtypes: float64(2), int64(8), object(4)\n",
      "memory usage: 2.1+ MB\n"
     ]
    }
   ],
   "source": [
    "df.info()"
   ]
  },
  {
   "cell_type": "code",
   "execution_count": 11,
   "metadata": {},
   "outputs": [
    {
     "data": {
      "text/plain": [
       "array([ 1, 10, 11, 12, 13, 14, 15, 16,  2,  3,  4,  5,  6,  7,  8,  9],\n",
       "      dtype=int64)"
      ]
     },
     "execution_count": 11,
     "metadata": {},
     "output_type": "execute_result"
    }
   ],
   "source": [
    "df['REGION'].unique()"
   ]
  },
  {
   "cell_type": "code",
   "execution_count": null,
   "metadata": {},
   "outputs": [],
   "source": []
  }
 ],
 "metadata": {
  "kernelspec": {
   "display_name": "Python 3",
   "language": "python",
   "name": "python3"
  },
  "language_info": {
   "codemirror_mode": {
    "name": "ipython",
    "version": 3
   },
   "file_extension": ".py",
   "mimetype": "text/x-python",
   "name": "python",
   "nbconvert_exporter": "python",
   "pygments_lexer": "ipython3",
   "version": "3.10.0"
  }
 },
 "nbformat": 4,
 "nbformat_minor": 2
}
